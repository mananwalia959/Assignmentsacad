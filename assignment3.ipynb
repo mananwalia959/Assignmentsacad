{
 "cells": [
  {
   "cell_type": "code",
   "execution_count": 23,
   "metadata": {},
   "outputs": [
    {
     "name": "stdout",
     "output_type": "stream",
     "text": [
      "1.83333333333\n"
     ]
    }
   ],
   "source": [
    "X = [2.6, 1.9, 3.7, 2.5, 3.1, 2.8]\n",
    "def findmean(X):\n",
    "    mean=0\n",
    "    for i in X:\n",
    "        mean=mean+i\n",
    "    mean=(mean/len(X))\n",
    "    return mean\n",
    "        \n",
    "def sumofsquares(X):\n",
    "    sumofsquares=0.0\n",
    "    mean=findmean(X)\n",
    "    for item in X:\n",
    "        sumofsquares=sumofsquares+((mean-item)*(mean-item))\n",
    "    return sumofsquares\n",
    "sumofsquaresX=sumofsquares(X)\n",
    "print sumofsquaresX"
   ]
  },
  {
   "cell_type": "code",
   "execution_count": 3,
   "metadata": {},
   "outputs": [
    {
     "name": "stdout",
     "output_type": "stream",
     "text": [
      "96.123\n"
     ]
    }
   ],
   "source": [
    "standard_deviation=1.79\n",
    "variance = pow(standard_deviation,2)\n",
    "n=30\n",
    "sumofsquares=variance*n\n",
    "print sumofsquares"
   ]
  },
  {
   "cell_type": "code",
   "execution_count": 13,
   "metadata": {},
   "outputs": [],
   "source": [
    "X = [16, 22, 11, 14, 13, 31]\n",
    "def findmean(X):\n",
    "    mean=0\n",
    "    for i in X:\n",
    "        mean=mean+i\n",
    "    mean=(mean/len(X))\n",
    "    return mean\n",
    "        \n",
    "def sumofsquares(X):\n",
    "    sumofsquares=0.0\n",
    "    mean=findmean(X)\n",
    "    for item in X:\n",
    "        sumofsquares=sumofsquares+((mean-item)*(mean-item))\n",
    "    return sumofsquares\n",
    "def variance(X):\n",
    "    variance=sumofsquares(X)\n",
    "    variance=(variance/(len(X)))\n",
    "    return variance\n",
    "def standarddeviation(X):\n",
    "    sd=variance(X)\n",
    "    sd=sd**(.5)\n",
    "def median(X):\n",
    "    sortedLst = sorted(X)\n",
    "    lstLen = len(X)\n",
    "    index = (X - 1)\n",
    "\n",
    "    if (lstLen % 2):\n",
    "        return sortedLst[index]\n",
    "    else:\n",
    "        return (sortedLst[index] + sortedLst[index + 1])/2.0\n",
    "#rest will be done later"
   ]
  },
  {
   "cell_type": "code",
   "execution_count": null,
   "metadata": {},
   "outputs": [],
   "source": []
  }
 ],
 "metadata": {
  "kernelspec": {
   "display_name": "Python 2",
   "language": "python",
   "name": "python2"
  },
  "language_info": {
   "codemirror_mode": {
    "name": "ipython",
    "version": 2
   },
   "file_extension": ".py",
   "mimetype": "text/x-python",
   "name": "python",
   "nbconvert_exporter": "python",
   "pygments_lexer": "ipython2",
   "version": "2.7.14"
  }
 },
 "nbformat": 4,
 "nbformat_minor": 2
}
