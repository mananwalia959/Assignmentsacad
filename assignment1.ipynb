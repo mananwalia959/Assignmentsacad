{
 "cells": [
  {
   "cell_type": "code",
   "execution_count": 1,
   "metadata": {},
   "outputs": [
    {
     "name": "stdout",
     "output_type": "stream",
     "text": [
      "<type 'str'>\n"
     ]
    }
   ],
   "source": [
    "var=30\n",
    "\n",
    "var=str(var)\n",
    "print (type(var))\n"
   ]
  },
  {
   "cell_type": "code",
   "execution_count": 2,
   "metadata": {},
   "outputs": [
    {
     "name": "stdout",
     "output_type": "stream",
     "text": [
      "age of Mr. Robin is 30\n"
     ]
    }
   ],
   "source": [
    "age=30\n",
    "\n",
    "print(\"age of Mr. Robin is %d\" % age)"
   ]
  },
  {
   "cell_type": "code",
   "execution_count": 4,
   "metadata": {},
   "outputs": [
    {
     "name": "stdout",
     "output_type": "stream",
     "text": [
      "enter your no0\n",
      "Aryabhatta\n"
     ]
    }
   ],
   "source": [
    "var2 = int(raw_input(\"enter your no:\"))\n",
    "if var2 > 0:\n",
    "    print (\"Positive\")\n",
    "elif var2 < 0:\n",
    "    print (\"Negative\")\n",
    "else:\n",
    "    print (\"Aryabhatta\")"
   ]
  },
  {
   "cell_type": "code",
   "execution_count": null,
   "metadata": {},
   "outputs": [],
   "source": []
  }
 ],
 "metadata": {
  "kernelspec": {
   "display_name": "Python 2",
   "language": "python",
   "name": "python2"
  },
  "language_info": {
   "codemirror_mode": {
    "name": "ipython",
    "version": 2
   },
   "file_extension": ".py",
   "mimetype": "text/x-python",
   "name": "python",
   "nbconvert_exporter": "python",
   "pygments_lexer": "ipython2",
   "version": "2.7.14"
  }
 },
 "nbformat": 4,
 "nbformat_minor": 2
}
