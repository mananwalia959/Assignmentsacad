{
 "cells": [
  {
   "cell_type": "code",
   "execution_count": 23,
   "metadata": {},
   "outputs": [
    {
     "name": "stdout",
     "output_type": "stream",
     "text": [
      "1.83333333333\n"
     ]
    }
   ],
   "source": [
    "X = [2.6, 1.9, 3.7, 2.5, 3.1, 2.8]\n",
    "def findmean(X):\n",
    "    mean=0\n",
    "    for i in X:\n",
    "        mean=mean+i\n",
    "    mean=(mean/len(X))\n",
    "    return mean\n",
    "        \n",
    "def sumofsquares(X):\n",
    "    sumofsquares=0.0\n",
    "    mean=findmean(X)\n",
    "    for item in X:\n",
    "        sumofsquares=sumofsquares+((mean-item)*(mean-item))\n",
    "    return sumofsquares\n",
    "sumofsquaresX=sumofsquares(X)\n",
    "print sumofsquaresX"
   ]
  },
  {
   "cell_type": "code",
   "execution_count": null,
   "metadata": {},
   "outputs": [],
   "source": [
    "#will be submitted tomorrow"
   ]
  },
  {
   "cell_type": "code",
   "execution_count": null,
   "metadata": {},
   "outputs": [],
   "source": [
    "#will be submitted tomorrow"
   ]
  }
 ],
 "metadata": {
  "kernelspec": {
   "display_name": "Python 2",
   "language": "python",
   "name": "python2"
  },
  "language_info": {
   "codemirror_mode": {
    "name": "ipython",
    "version": 2
   },
   "file_extension": ".py",
   "mimetype": "text/x-python",
   "name": "python",
   "nbconvert_exporter": "python",
   "pygments_lexer": "ipython2",
   "version": "2.7.14"
  }
 },
 "nbformat": 4,
 "nbformat_minor": 2
}
