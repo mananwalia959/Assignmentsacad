{
 "cells": [
  {
   "cell_type": "code",
   "execution_count": 23,
   "metadata": {},
   "outputs": [
    {
     "name": "stdout",
     "output_type": "stream",
     "text": [
      "1.83333333333\n"
     ]
    }
   ],
   "source": [
    "X = [2.6, 1.9, 3.7, 2.5, 3.1, 2.8]\n",
    "def findmean(X):\n",
    "    mean=0\n",
    "    for i in X:\n",
    "        mean=mean+i\n",
    "    mean=(mean/len(X))\n",
    "    return mean\n",
    "        \n",
    "def sumofsquares(X):\n",
    "    sumofsquares=0.0\n",
    "    mean=findmean(X)\n",
    "    for item in X:\n",
    "        sumofsquares=sumofsquares+((mean-item)*(mean-item))\n",
    "    return sumofsquares\n",
    "sumofsquaresX=sumofsquares(X)\n",
    "print sumofsquaresX"
   ]
  },
  {
   "cell_type": "code",
   "execution_count": 3,
   "metadata": {},
   "outputs": [
    {
     "name": "stdout",
     "output_type": "stream",
     "text": [
      "96.123\n"
     ]
    }
   ],
   "source": [
    "standard_deviation=1.79\n",
    "variance = pow(standard_deviation,2)\n",
    "n=30\n",
    "sumofsquares=variance*n\n",
    "print sumofsquares"
   ]
  },
  {
   "cell_type": "code",
   "execution_count": 2,
   "metadata": {},
   "outputs": [
    {
     "name": "stdout",
     "output_type": "stream",
     "text": [
      "mean=17\n",
      "median=16\n",
      "mode=11\n",
      "sum of squares=283\n",
      "variance=47\n",
      "standard deviation=6.867799\n"
     ]
    }
   ],
   "source": [
    "X = [16, 22, 11, 14, 13, 31]\n",
    "def findmean(X):\n",
    "    mean=0\n",
    "    for i in X:\n",
    "        mean=mean+i\n",
    "    mean=(mean/len(X))\n",
    "    return mean\n",
    "        \n",
    "def sumofsquares(X):\n",
    "    sumofsquares=0.0\n",
    "    mean=findmean(X)\n",
    "    for item in X:\n",
    "        sumofsquares=sumofsquares+((mean-item)*(mean-item))\n",
    "    return sumofsquares\n",
    "def variance(X):\n",
    "    variance=sumofsquares(X)\n",
    "    variance=(variance/(len(X)))\n",
    "    return variance\n",
    "def standarddeviation(X):\n",
    "    sd=variance(X)\n",
    "    sd=sd**(.5)\n",
    "    return sd\n",
    "def median(X):# this was a little tricky\n",
    "    sortedLst = sorted(X)\n",
    "    XLen = len(X)\n",
    "    if (XLen % 2==0):\n",
    "        return sortedLst[(XLen)/2]\n",
    "    else:\n",
    "        return (sortedLst[(XLen-1)/2] + sortedLst[((XLen-1)/2)+1])/2.0\n",
    "\n",
    "def mode(x): # This was difficult to make PLZ PLZ PLZ tell if you find a bug\n",
    "    counter=[]\n",
    "    modes=[]\n",
    "    for i in range(0,len(x)):\n",
    "        temp=0\n",
    "        for k in range(0,len(x)):\n",
    "            if (x[i] == x[k]):\n",
    "                temp=temp+1\n",
    "        counter.append(temp)    \n",
    "            \n",
    "    maxcount=max(counter)\n",
    "    for i in range(0,len(x)):\n",
    "            if (counter[i]==maxcount):\n",
    "                modes.append(x[i]) # modes will contain all the values with the highest count\n",
    "                \n",
    "    return min(modes)#depending on your choice you can return all_the_modes/min_mode/max_mode/first_mode/Error=multiple_modes\n",
    "\n",
    "mean= findmean(X)\n",
    "print (\"mean=%d\"%mean)\n",
    "median= median(X)\n",
    "print (\"median=%d\"% median)\n",
    "mode=mode(X)\n",
    "print (\"mode=%d\"%mode)\n",
    "ss=sumofsquares(X)\n",
    "print (\"sum of squares=%d\"%ss)\n",
    "v=variance(X)\n",
    "print (\"variance=%d\"%v)\n",
    "sd=standarddeviation(X)\n",
    "print (\"standard deviation=%f\" %sd)\n"
   ]
  },
  {
   "cell_type": "code",
   "execution_count": null,
   "metadata": {},
   "outputs": [],
   "source": []
  }
 ],
 "metadata": {
  "kernelspec": {
   "display_name": "Python 2",
   "language": "python",
   "name": "python2"
  },
  "language_info": {
   "codemirror_mode": {
    "name": "ipython",
    "version": 2
   },
   "file_extension": ".py",
   "mimetype": "text/x-python",
   "name": "python",
   "nbconvert_exporter": "python",
   "pygments_lexer": "ipython2",
   "version": "2.7.14"
  }
 },
 "nbformat": 4,
 "nbformat_minor": 2
}
