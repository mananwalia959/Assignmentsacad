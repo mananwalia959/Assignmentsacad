{
 "cells": [
  {
   "cell_type": "code",
   "execution_count": 2,
   "metadata": {},
   "outputs": [
    {
     "name": "stdout",
     "output_type": "stream",
     "text": [
      "[[ 6 -6]\n",
      " [11  7]]\n"
     ]
    }
   ],
   "source": [
    "import numpy as np\n",
    "a = np.array([[4,3],[6,9]])  \n",
    "b = np.array([[-2,9],[-5,2]])  \n",
    "c=a-b\n",
    "print c\n"
   ]
  },
  {
   "cell_type": "code",
   "execution_count": 24,
   "metadata": {},
   "outputs": [
    {
     "name": "stdout",
     "output_type": "stream",
     "text": [
      "[[1. ]\n",
      " [3.5]\n",
      " [2. ]\n",
      " [0.5]]\n"
     ]
    }
   ],
   "source": [
    "import numpy as np\n",
    "a = np.array([[2],[7],[4],[1]])\n",
    "b=(1.0/2)*(a.astype(float))\n",
    "print b"
   ]
  },
  {
   "cell_type": "code",
   "execution_count": 20,
   "metadata": {},
   "outputs": [
    {
     "name": "stdout",
     "output_type": "stream",
     "text": [
      "(3L, 1L)\n",
      "(1L, 3L)\n",
      "[[8 1 4]]\n"
     ]
    }
   ],
   "source": [
    "import numpy as np\n",
    "a = np.array([[8],[1],[4]])\n",
    "print(a.shape)\n",
    "b=a.T\n",
    "print b.shape\n",
    "print a.T\n",
    "\n"
   ]
  },
  {
   "cell_type": "code",
   "execution_count": 26,
   "metadata": {},
   "outputs": [
    {
     "name": "stdout",
     "output_type": "stream",
     "text": [
      "[ 2  6 -4]\n"
     ]
    }
   ],
   "source": [
    "import numpy as np\n",
    "u=np.array([1,3,-1])\n",
    "v=np.array([2,2,4])\n",
    "ans=u.T*v\n",
    "print ans"
   ]
  },
  {
   "cell_type": "code",
   "execution_count": 51,
   "metadata": {},
   "outputs": [
    {
     "name": "stdout",
     "output_type": "stream",
     "text": [
      "Let A and B be 3X3 (square) matrices. \n",
      " Which of the following must necessarily hold true?\n",
      "\n",
      "a. A*B = B*A \n",
      "b. If B is a 3X3 identity matrix, then A*B = B*A\n",
      "c. (A*B)*A = A*(B*A)\n",
      "d. If C = A*B, then C is a 6*6 matrix. \n",
      "\n",
      "\n",
      "\n",
      "Answers =\n",
      " b. If B is a 3X3 identity matrix, then A*B = B*A \n",
      "and\n",
      "c. (A*B)*A = A*(B*A) \n"
     ]
    }
   ],
   "source": [
    "print(\"Let A and B be 3X3 (square) matrices. \\n Which of the following must necessarily hold true?\\n\\na. A*B = B*A \\nb. If B is a 3X3 identity matrix, then A*B = B*A\\nc. (A*B)*A = A*(B*A)\\nd. If C = A*B, then C is a 6*6 matrix. \")\n",
    "print(\"\\n\\n\")\n",
    "print \"Answers =\\n b. If B is a 3X3 identity matrix, then A*B = B*A \\nand\\nc. (A*B)*A = A*(B*A) \""
   ]
  },
  {
   "cell_type": "code",
   "execution_count": null,
   "metadata": {},
   "outputs": [],
   "source": [
    "\n",
    "\n"
   ]
  }
 ],
 "metadata": {
  "kernelspec": {
   "display_name": "Python 2",
   "language": "python",
   "name": "python2"
  },
  "language_info": {
   "codemirror_mode": {
    "name": "ipython",
    "version": 2
   },
   "file_extension": ".py",
   "mimetype": "text/x-python",
   "name": "python",
   "nbconvert_exporter": "python",
   "pygments_lexer": "ipython2",
   "version": "2.7.14"
  }
 },
 "nbformat": 4,
 "nbformat_minor": 2
}
